{
  "nbformat": 4,
  "nbformat_minor": 0,
  "metadata": {
    "colab": {
      "name": "GMM.ipynb",
      "provenance": [],
      "collapsed_sections": [],
      "include_colab_link": true
    },
    "kernelspec": {
      "name": "python3",
      "display_name": "Python 3"
    },
    "accelerator": "GPU"
  },
  "cells": [
    {
      "cell_type": "markdown",
      "metadata": {
        "id": "view-in-github",
        "colab_type": "text"
      },
      "source": [
        "<a href=\"https://colab.research.google.com/github/nlptrinh/A01/blob/master/GMM.ipynb\" target=\"_parent\"><img src=\"https://colab.research.google.com/assets/colab-badge.svg\" alt=\"Open In Colab\"/></a>"
      ]
    },
    {
      "cell_type": "code",
      "metadata": {
        "id": "5vxUiLeBEmau",
        "colab_type": "code",
        "outputId": "cdccb862-1059-4383-bcb0-e944e941b7cb",
        "colab": {
          "base_uri": "https://localhost:8080/",
          "height": 122
        }
      },
      "source": [
        "from google.colab import drive\n",
        "drive.mount('/content/drive')"
      ],
      "execution_count": 2,
      "outputs": [
        {
          "output_type": "stream",
          "text": [
            "Go to this URL in a browser: https://accounts.google.com/o/oauth2/auth?client_id=947318989803-6bn6qk8qdgf4n4g3pfee6491hc0brc4i.apps.googleusercontent.com&redirect_uri=urn%3aietf%3awg%3aoauth%3a2.0%3aoob&response_type=code&scope=email%20https%3a%2f%2fwww.googleapis.com%2fauth%2fdocs.test%20https%3a%2f%2fwww.googleapis.com%2fauth%2fdrive%20https%3a%2f%2fwww.googleapis.com%2fauth%2fdrive.photos.readonly%20https%3a%2f%2fwww.googleapis.com%2fauth%2fpeopleapi.readonly\n",
            "\n",
            "Enter your authorization code:\n",
            "··········\n",
            "Mounted at /content/drive\n"
          ],
          "name": "stdout"
        }
      ]
    },
    {
      "cell_type": "code",
      "metadata": {
        "id": "cocDddRj0jBJ",
        "colab_type": "code",
        "colab": {}
      },
      "source": [
        "import os\n",
        "os.chdir(\"/content/drive/My Drive/CinnamonAI\")"
      ],
      "execution_count": 0,
      "outputs": []
    },
    {
      "cell_type": "markdown",
      "metadata": {
        "id": "znss2kovGzOI",
        "colab_type": "text"
      },
      "source": [
        "**Import necessary libraries and tools**"
      ]
    },
    {
      "cell_type": "code",
      "metadata": {
        "id": "eTHm1P4MEtIp",
        "colab_type": "code",
        "colab": {}
      },
      "source": [
        "from sklearn.model_selection import train_test_split\n",
        "import numpy as np\n",
        "import pandas as pd\n",
        "import matplotlib.pyplot as plt \n",
        "import scipy.io "
      ],
      "execution_count": 0,
      "outputs": []
    },
    {
      "cell_type": "code",
      "metadata": {
        "id": "LrdkZCXrHReK",
        "colab_type": "code",
        "colab": {}
      },
      "source": [
        "root_path = \"/content/drive/My Drive/CinnamonAI/Gaussian-Model/\""
      ],
      "execution_count": 0,
      "outputs": []
    },
    {
      "cell_type": "code",
      "metadata": {
        "id": "RTx-WTvyG4sd",
        "colab_type": "code",
        "colab": {}
      },
      "source": [
        "#loading data and split X,y features.\n",
        "from scipy.io import loadmat\n",
        "data = loadmat('data/cardio.mat')\n",
        "X = data[\"X\"]\n",
        "y= data[\"y\"]"
      ],
      "execution_count": 0,
      "outputs": []
    },
    {
      "cell_type": "markdown",
      "metadata": {
        "id": "D57ZgrzkMBGy",
        "colab_type": "text"
      },
      "source": [
        "**Splitting Dataset**"
      ]
    },
    {
      "cell_type": "code",
      "metadata": {
        "id": "3xl7YrAnMAN3",
        "colab_type": "code",
        "colab": {}
      },
      "source": [
        "df = pd.DataFrame(X)\n",
        "df['normal_label']=y"
      ],
      "execution_count": 0,
      "outputs": []
    },
    {
      "cell_type": "code",
      "metadata": {
        "id": "kr-0FkyeQQY9",
        "colab_type": "code",
        "outputId": "5d3e5329-1236-4f3b-c546-d6e762189e92",
        "colab": {
          "base_uri": "https://localhost:8080/",
          "height": 439
        }
      },
      "source": [
        "df"
      ],
      "execution_count": 8,
      "outputs": [
        {
          "output_type": "execute_result",
          "data": {
            "text/html": [
              "<div>\n",
              "<style scoped>\n",
              "    .dataframe tbody tr th:only-of-type {\n",
              "        vertical-align: middle;\n",
              "    }\n",
              "\n",
              "    .dataframe tbody tr th {\n",
              "        vertical-align: top;\n",
              "    }\n",
              "\n",
              "    .dataframe thead th {\n",
              "        text-align: right;\n",
              "    }\n",
              "</style>\n",
              "<table border=\"1\" class=\"dataframe\">\n",
              "  <thead>\n",
              "    <tr style=\"text-align: right;\">\n",
              "      <th></th>\n",
              "      <th>0</th>\n",
              "      <th>1</th>\n",
              "      <th>2</th>\n",
              "      <th>3</th>\n",
              "      <th>4</th>\n",
              "      <th>5</th>\n",
              "      <th>6</th>\n",
              "      <th>7</th>\n",
              "      <th>8</th>\n",
              "      <th>9</th>\n",
              "      <th>10</th>\n",
              "      <th>11</th>\n",
              "      <th>12</th>\n",
              "      <th>13</th>\n",
              "      <th>14</th>\n",
              "      <th>15</th>\n",
              "      <th>16</th>\n",
              "      <th>17</th>\n",
              "      <th>18</th>\n",
              "      <th>19</th>\n",
              "      <th>20</th>\n",
              "      <th>normal_label</th>\n",
              "    </tr>\n",
              "  </thead>\n",
              "  <tbody>\n",
              "    <tr>\n",
              "      <th>0</th>\n",
              "      <td>0.004912</td>\n",
              "      <td>0.693191</td>\n",
              "      <td>-0.203640</td>\n",
              "      <td>0.595322</td>\n",
              "      <td>0.353190</td>\n",
              "      <td>-0.061401</td>\n",
              "      <td>-0.278295</td>\n",
              "      <td>-1.650444</td>\n",
              "      <td>0.759072</td>\n",
              "      <td>-0.420487</td>\n",
              "      <td>0.372149</td>\n",
              "      <td>1.485973</td>\n",
              "      <td>-0.798376</td>\n",
              "      <td>1.854728</td>\n",
              "      <td>0.622631</td>\n",
              "      <td>0.963083</td>\n",
              "      <td>0.301464</td>\n",
              "      <td>0.193113</td>\n",
              "      <td>0.231498</td>\n",
              "      <td>-0.289786</td>\n",
              "      <td>-0.493294</td>\n",
              "      <td>0.0</td>\n",
              "    </tr>\n",
              "    <tr>\n",
              "      <th>1</th>\n",
              "      <td>0.110729</td>\n",
              "      <td>-0.079903</td>\n",
              "      <td>-0.203640</td>\n",
              "      <td>1.268942</td>\n",
              "      <td>0.396246</td>\n",
              "      <td>-0.061401</td>\n",
              "      <td>-0.278295</td>\n",
              "      <td>-1.710270</td>\n",
              "      <td>0.759072</td>\n",
              "      <td>-0.420487</td>\n",
              "      <td>0.882794</td>\n",
              "      <td>1.485973</td>\n",
              "      <td>-0.798376</td>\n",
              "      <td>1.854728</td>\n",
              "      <td>0.278625</td>\n",
              "      <td>0.963083</td>\n",
              "      <td>0.301464</td>\n",
              "      <td>0.129265</td>\n",
              "      <td>0.093563</td>\n",
              "      <td>-0.256385</td>\n",
              "      <td>-0.493294</td>\n",
              "      <td>0.0</td>\n",
              "    </tr>\n",
              "    <tr>\n",
              "      <th>2</th>\n",
              "      <td>0.216546</td>\n",
              "      <td>-0.272445</td>\n",
              "      <td>-0.203640</td>\n",
              "      <td>1.050988</td>\n",
              "      <td>0.148753</td>\n",
              "      <td>-0.061401</td>\n",
              "      <td>-0.278295</td>\n",
              "      <td>-1.710270</td>\n",
              "      <td>1.106509</td>\n",
              "      <td>-0.420487</td>\n",
              "      <td>2.516859</td>\n",
              "      <td>1.141780</td>\n",
              "      <td>-1.332931</td>\n",
              "      <td>0.314688</td>\n",
              "      <td>2.342663</td>\n",
              "      <td>-0.488279</td>\n",
              "      <td>0.061002</td>\n",
              "      <td>0.065417</td>\n",
              "      <td>0.024596</td>\n",
              "      <td>-0.256385</td>\n",
              "      <td>1.140018</td>\n",
              "      <td>0.0</td>\n",
              "    </tr>\n",
              "    <tr>\n",
              "      <th>3</th>\n",
              "      <td>0.004912</td>\n",
              "      <td>0.727346</td>\n",
              "      <td>-0.203640</td>\n",
              "      <td>1.212171</td>\n",
              "      <td>-0.683598</td>\n",
              "      <td>-0.061401</td>\n",
              "      <td>-0.278295</td>\n",
              "      <td>-1.710270</td>\n",
              "      <td>1.106509</td>\n",
              "      <td>-0.420487</td>\n",
              "      <td>1.989193</td>\n",
              "      <td>1.141780</td>\n",
              "      <td>-1.332931</td>\n",
              "      <td>0.314688</td>\n",
              "      <td>1.654650</td>\n",
              "      <td>-0.488279</td>\n",
              "      <td>0.061002</td>\n",
              "      <td>0.193113</td>\n",
              "      <td>0.093563</td>\n",
              "      <td>-0.323186</td>\n",
              "      <td>1.140018</td>\n",
              "      <td>0.0</td>\n",
              "    </tr>\n",
              "    <tr>\n",
              "      <th>4</th>\n",
              "      <td>-0.100905</td>\n",
              "      <td>0.363595</td>\n",
              "      <td>1.321366</td>\n",
              "      <td>1.027120</td>\n",
              "      <td>0.141359</td>\n",
              "      <td>-0.061401</td>\n",
              "      <td>-0.278295</td>\n",
              "      <td>-0.992364</td>\n",
              "      <td>-0.051613</td>\n",
              "      <td>-0.420487</td>\n",
              "      <td>0.797687</td>\n",
              "      <td>-0.208514</td>\n",
              "      <td>-0.085638</td>\n",
              "      <td>-0.565334</td>\n",
              "      <td>0.278625</td>\n",
              "      <td>-0.488279</td>\n",
              "      <td>-0.059229</td>\n",
              "      <td>0.065417</td>\n",
              "      <td>0.024596</td>\n",
              "      <td>-0.456787</td>\n",
              "      <td>1.140018</td>\n",
              "      <td>0.0</td>\n",
              "    </tr>\n",
              "    <tr>\n",
              "      <th>...</th>\n",
              "      <td>...</td>\n",
              "      <td>...</td>\n",
              "      <td>...</td>\n",
              "      <td>...</td>\n",
              "      <td>...</td>\n",
              "      <td>...</td>\n",
              "      <td>...</td>\n",
              "      <td>...</td>\n",
              "      <td>...</td>\n",
              "      <td>...</td>\n",
              "      <td>...</td>\n",
              "      <td>...</td>\n",
              "      <td>...</td>\n",
              "      <td>...</td>\n",
              "      <td>...</td>\n",
              "      <td>...</td>\n",
              "      <td>...</td>\n",
              "      <td>...</td>\n",
              "      <td>...</td>\n",
              "      <td>...</td>\n",
              "      <td>...</td>\n",
              "      <td>...</td>\n",
              "    </tr>\n",
              "    <tr>\n",
              "      <th>1826</th>\n",
              "      <td>-0.418356</td>\n",
              "      <td>-0.919988</td>\n",
              "      <td>-0.161178</td>\n",
              "      <td>0.829564</td>\n",
              "      <td>0.953023</td>\n",
              "      <td>-0.061401</td>\n",
              "      <td>3.060819</td>\n",
              "      <td>1.221178</td>\n",
              "      <td>1.338133</td>\n",
              "      <td>-0.420487</td>\n",
              "      <td>-1.398088</td>\n",
              "      <td>1.459497</td>\n",
              "      <td>-0.976561</td>\n",
              "      <td>1.524719</td>\n",
              "      <td>0.622631</td>\n",
              "      <td>-0.488279</td>\n",
              "      <td>-1.982928</td>\n",
              "      <td>-2.616202</td>\n",
              "      <td>-1.561651</td>\n",
              "      <td>0.244620</td>\n",
              "      <td>-0.493294</td>\n",
              "      <td>1.0</td>\n",
              "    </tr>\n",
              "    <tr>\n",
              "      <th>1827</th>\n",
              "      <td>-0.418356</td>\n",
              "      <td>-0.919988</td>\n",
              "      <td>-0.171055</td>\n",
              "      <td>0.796630</td>\n",
              "      <td>0.823510</td>\n",
              "      <td>-0.061401</td>\n",
              "      <td>3.565299</td>\n",
              "      <td>1.281003</td>\n",
              "      <td>1.453945</td>\n",
              "      <td>-0.420487</td>\n",
              "      <td>-1.398088</td>\n",
              "      <td>1.459497</td>\n",
              "      <td>-0.976561</td>\n",
              "      <td>1.524719</td>\n",
              "      <td>-0.065382</td>\n",
              "      <td>-0.488279</td>\n",
              "      <td>-1.862696</td>\n",
              "      <td>-2.807747</td>\n",
              "      <td>-1.699585</td>\n",
              "      <td>0.010817</td>\n",
              "      <td>-0.493294</td>\n",
              "      <td>1.0</td>\n",
              "    </tr>\n",
              "    <tr>\n",
              "      <th>1828</th>\n",
              "      <td>-0.418356</td>\n",
              "      <td>-0.919988</td>\n",
              "      <td>-0.164635</td>\n",
              "      <td>0.952396</td>\n",
              "      <td>1.120470</td>\n",
              "      <td>-0.061401</td>\n",
              "      <td>2.788995</td>\n",
              "      <td>1.221178</td>\n",
              "      <td>1.222321</td>\n",
              "      <td>-0.420487</td>\n",
              "      <td>-1.398088</td>\n",
              "      <td>1.459497</td>\n",
              "      <td>-0.976561</td>\n",
              "      <td>1.524719</td>\n",
              "      <td>0.622631</td>\n",
              "      <td>-0.488279</td>\n",
              "      <td>-1.922812</td>\n",
              "      <td>-2.488506</td>\n",
              "      <td>-1.492683</td>\n",
              "      <td>0.244620</td>\n",
              "      <td>-0.493294</td>\n",
              "      <td>1.0</td>\n",
              "    </tr>\n",
              "    <tr>\n",
              "      <th>1829</th>\n",
              "      <td>-0.418356</td>\n",
              "      <td>-0.919988</td>\n",
              "      <td>-0.150934</td>\n",
              "      <td>0.695726</td>\n",
              "      <td>1.212428</td>\n",
              "      <td>-0.061401</td>\n",
              "      <td>2.484822</td>\n",
              "      <td>1.221178</td>\n",
              "      <td>1.222321</td>\n",
              "      <td>-0.420487</td>\n",
              "      <td>-1.398088</td>\n",
              "      <td>1.459497</td>\n",
              "      <td>-0.976561</td>\n",
              "      <td>1.524719</td>\n",
              "      <td>0.278625</td>\n",
              "      <td>-0.488279</td>\n",
              "      <td>-1.321656</td>\n",
              "      <td>-2.296962</td>\n",
              "      <td>-1.423716</td>\n",
              "      <td>0.144419</td>\n",
              "      <td>-0.493294</td>\n",
              "      <td>1.0</td>\n",
              "    </tr>\n",
              "    <tr>\n",
              "      <th>1830</th>\n",
              "      <td>-0.418356</td>\n",
              "      <td>-0.919988</td>\n",
              "      <td>-0.203640</td>\n",
              "      <td>1.173282</td>\n",
              "      <td>2.579786</td>\n",
              "      <td>-0.061401</td>\n",
              "      <td>-0.278295</td>\n",
              "      <td>1.101527</td>\n",
              "      <td>3.191128</td>\n",
              "      <td>-0.420487</td>\n",
              "      <td>-1.398088</td>\n",
              "      <td>0.426919</td>\n",
              "      <td>-0.869650</td>\n",
              "      <td>-0.455331</td>\n",
              "      <td>0.278625</td>\n",
              "      <td>-0.488279</td>\n",
              "      <td>-4.026857</td>\n",
              "      <td>-3.829316</td>\n",
              "      <td>-1.285782</td>\n",
              "      <td>3.584653</td>\n",
              "      <td>-0.493294</td>\n",
              "      <td>1.0</td>\n",
              "    </tr>\n",
              "  </tbody>\n",
              "</table>\n",
              "<p>1831 rows × 22 columns</p>\n",
              "</div>"
            ],
            "text/plain": [
              "             0         1         2  ...        19        20  normal_label\n",
              "0     0.004912  0.693191 -0.203640  ... -0.289786 -0.493294           0.0\n",
              "1     0.110729 -0.079903 -0.203640  ... -0.256385 -0.493294           0.0\n",
              "2     0.216546 -0.272445 -0.203640  ... -0.256385  1.140018           0.0\n",
              "3     0.004912  0.727346 -0.203640  ... -0.323186  1.140018           0.0\n",
              "4    -0.100905  0.363595  1.321366  ... -0.456787  1.140018           0.0\n",
              "...        ...       ...       ...  ...       ...       ...           ...\n",
              "1826 -0.418356 -0.919988 -0.161178  ...  0.244620 -0.493294           1.0\n",
              "1827 -0.418356 -0.919988 -0.171055  ...  0.010817 -0.493294           1.0\n",
              "1828 -0.418356 -0.919988 -0.164635  ...  0.244620 -0.493294           1.0\n",
              "1829 -0.418356 -0.919988 -0.150934  ...  0.144419 -0.493294           1.0\n",
              "1830 -0.418356 -0.919988 -0.203640  ...  3.584653 -0.493294           1.0\n",
              "\n",
              "[1831 rows x 22 columns]"
            ]
          },
          "metadata": {
            "tags": []
          },
          "execution_count": 8
        }
      ]
    },
    {
      "cell_type": "code",
      "metadata": {
        "id": "lkF6OE6gMaW9",
        "colab_type": "code",
        "outputId": "26370d09-08a8-4baf-a0a5-e8be584bf605",
        "colab": {
          "base_uri": "https://localhost:8080/",
          "height": 255
        }
      },
      "source": [
        "X_train = df[df['normal_label']==0].drop(labels='normal_label',axis=1).to_numpy()\n",
        "print(len(X_train[0]))\n",
        "X_train"
      ],
      "execution_count": 9,
      "outputs": [
        {
          "output_type": "stream",
          "text": [
            "21\n"
          ],
          "name": "stdout"
        },
        {
          "output_type": "execute_result",
          "data": {
            "text/plain": [
              "array([[ 0.00491231,  0.69319077, -0.20364049, ...,  0.23149795,\n",
              "        -0.28978574, -0.49329397],\n",
              "       [ 0.11072935, -0.07990259, -0.20364049, ...,  0.09356344,\n",
              "        -0.25638541, -0.49329397],\n",
              "       [ 0.21654639, -0.27244466, -0.20364049, ...,  0.02459619,\n",
              "        -0.25638541,  1.14001753],\n",
              "       ...,\n",
              "       [ 0.85144861, -0.91998844, -0.20364049, ...,  0.57633422,\n",
              "        -0.65718941,  1.14001753],\n",
              "       [ 0.85144861, -0.91998844, -0.20364049, ...,  0.57633422,\n",
              "        -0.62378908, -0.49329397],\n",
              "       [ 1.06308268, -0.51148142, -0.16958144, ...,  0.57633422,\n",
              "        -0.65718941, -0.49329397]])"
            ]
          },
          "metadata": {
            "tags": []
          },
          "execution_count": 9
        }
      ]
    },
    {
      "cell_type": "markdown",
      "metadata": {
        "id": "lOU6sFefn6gT",
        "colab_type": "text"
      },
      "source": [
        "**Visulizing and selecting two random features of X_train**"
      ]
    },
    {
      "cell_type": "code",
      "metadata": {
        "id": "m43yiiARvt1o",
        "colab_type": "code",
        "outputId": "fd627061-745a-4729-c3ac-c1736e880a36",
        "colab": {
          "base_uri": "https://localhost:8080/",
          "height": 419
        }
      },
      "source": [
        "X_train_candidate_features = X_train[:,2:4]\n",
        "X_train_candidate_features = pd.DataFrame(X_train_candidate_features)\n",
        "X_train_candidate_features"
      ],
      "execution_count": 10,
      "outputs": [
        {
          "output_type": "execute_result",
          "data": {
            "text/html": [
              "<div>\n",
              "<style scoped>\n",
              "    .dataframe tbody tr th:only-of-type {\n",
              "        vertical-align: middle;\n",
              "    }\n",
              "\n",
              "    .dataframe tbody tr th {\n",
              "        vertical-align: top;\n",
              "    }\n",
              "\n",
              "    .dataframe thead th {\n",
              "        text-align: right;\n",
              "    }\n",
              "</style>\n",
              "<table border=\"1\" class=\"dataframe\">\n",
              "  <thead>\n",
              "    <tr style=\"text-align: right;\">\n",
              "      <th></th>\n",
              "      <th>0</th>\n",
              "      <th>1</th>\n",
              "    </tr>\n",
              "  </thead>\n",
              "  <tbody>\n",
              "    <tr>\n",
              "      <th>0</th>\n",
              "      <td>-0.203640</td>\n",
              "      <td>0.595322</td>\n",
              "    </tr>\n",
              "    <tr>\n",
              "      <th>1</th>\n",
              "      <td>-0.203640</td>\n",
              "      <td>1.268942</td>\n",
              "    </tr>\n",
              "    <tr>\n",
              "      <th>2</th>\n",
              "      <td>-0.203640</td>\n",
              "      <td>1.050988</td>\n",
              "    </tr>\n",
              "    <tr>\n",
              "      <th>3</th>\n",
              "      <td>-0.203640</td>\n",
              "      <td>1.212171</td>\n",
              "    </tr>\n",
              "    <tr>\n",
              "      <th>4</th>\n",
              "      <td>1.321366</td>\n",
              "      <td>1.027120</td>\n",
              "    </tr>\n",
              "    <tr>\n",
              "      <th>...</th>\n",
              "      <td>...</td>\n",
              "      <td>...</td>\n",
              "    </tr>\n",
              "    <tr>\n",
              "      <th>1650</th>\n",
              "      <td>-0.203640</td>\n",
              "      <td>1.096469</td>\n",
              "    </tr>\n",
              "    <tr>\n",
              "      <th>1651</th>\n",
              "      <td>-0.203640</td>\n",
              "      <td>0.626769</td>\n",
              "    </tr>\n",
              "    <tr>\n",
              "      <th>1652</th>\n",
              "      <td>-0.203640</td>\n",
              "      <td>0.729898</td>\n",
              "    </tr>\n",
              "    <tr>\n",
              "      <th>1653</th>\n",
              "      <td>-0.203640</td>\n",
              "      <td>0.104127</td>\n",
              "    </tr>\n",
              "    <tr>\n",
              "      <th>1654</th>\n",
              "      <td>-0.169581</td>\n",
              "      <td>1.189166</td>\n",
              "    </tr>\n",
              "  </tbody>\n",
              "</table>\n",
              "<p>1655 rows × 2 columns</p>\n",
              "</div>"
            ],
            "text/plain": [
              "             0         1\n",
              "0    -0.203640  0.595322\n",
              "1    -0.203640  1.268942\n",
              "2    -0.203640  1.050988\n",
              "3    -0.203640  1.212171\n",
              "4     1.321366  1.027120\n",
              "...        ...       ...\n",
              "1650 -0.203640  1.096469\n",
              "1651 -0.203640  0.626769\n",
              "1652 -0.203640  0.729898\n",
              "1653 -0.203640  0.104127\n",
              "1654 -0.169581  1.189166\n",
              "\n",
              "[1655 rows x 2 columns]"
            ]
          },
          "metadata": {
            "tags": []
          },
          "execution_count": 10
        }
      ]
    },
    {
      "cell_type": "code",
      "metadata": {
        "id": "tcJqlA4goESA",
        "colab_type": "code",
        "outputId": "b70099cb-3ca1-488c-883e-556d49b98db6",
        "colab": {
          "base_uri": "https://localhost:8080/",
          "height": 282
        }
      },
      "source": [
        "plt.scatter(X_train_candidate_features[0],X_train_candidate_features[1])"
      ],
      "execution_count": 11,
      "outputs": [
        {
          "output_type": "execute_result",
          "data": {
            "text/plain": [
              "<matplotlib.collections.PathCollection at 0x7fe645b00828>"
            ]
          },
          "metadata": {
            "tags": []
          },
          "execution_count": 11
        },
        {
          "output_type": "display_data",
          "data": {
            "image/png": "[encoded data removed]",
            "text/plain": [
              "<Figure size 432x288 with 1 Axes>"
            ]
          },
          "metadata": {
            "tags": []
          }
        }
      ]
    },
    {
      "cell_type": "markdown",
      "metadata": {
        "id": "ag84Bm3MMFbi",
        "colab_type": "text"
      },
      "source": [
        "**GMM-sklearn**"
      ]
    },
    {
      "cell_type": "code",
      "metadata": {
        "id": "3I8i3mrQMEYB",
        "colab_type": "code",
        "colab": {}
      },
      "source": [
        "from sklearn.mixture import GaussianMixture"
      ],
      "execution_count": 0,
      "outputs": []
    },
    {
      "cell_type": "code",
      "metadata": {
        "id": "D7f6uTejMOR_",
        "colab_type": "code",
        "outputId": "2639c396-d1b1-43e1-bcf0-09a2fae70b7e",
        "colab": {
          "base_uri": "https://localhost:8080/",
          "height": 85
        }
      },
      "source": [
        "gmm = GaussianMixture(n_components=3)\n",
        "gmm.fit(X_train_candidate_features)"
      ],
      "execution_count": 13,
      "outputs": [
        {
          "output_type": "execute_result",
          "data": {
            "text/plain": [
              "GaussianMixture(covariance_type='full', init_params='kmeans', max_iter=100,\n",
              "                means_init=None, n_components=3, n_init=1, precisions_init=None,\n",
              "                random_state=None, reg_covar=1e-06, tol=0.001, verbose=0,\n",
              "                verbose_interval=10, warm_start=False, weights_init=None)"
            ]
          },
          "metadata": {
            "tags": []
          },
          "execution_count": 13
        }
      ]
    },
    {
      "cell_type": "code",
      "metadata": {
        "id": "qWGdbGTAMnv7",
        "colab_type": "code",
        "outputId": "2aca0eb2-d6fd-4d23-e480-5070839907ab",
        "colab": {
          "base_uri": "https://localhost:8080/",
          "height": 34
        }
      },
      "source": [
        " print(len(X_train_candidate_features[0]))\n",
        "labels = gmm.predict(X_train_candidate_features) \n",
        "X_train_candidate_features['labels']= labels\n",
        "d0 = X_train_candidate_features[X_train_candidate_features['labels']== 0] \n",
        "d1 = X_train_candidate_features[X_train_candidate_features['labels']== 1]\n",
        "d2 = X_train_candidate_features[X_train_candidate_features['labels']== 2] \n"
      ],
      "execution_count": 14,
      "outputs": [
        {
          "output_type": "stream",
          "text": [
            "1655\n"
          ],
          "name": "stdout"
        }
      ]
    },
    {
      "cell_type": "code",
      "metadata": {
        "id": "KZu3yDZPNGdu",
        "colab_type": "code",
        "outputId": "d5901007-620f-4785-d98b-342250897d0a",
        "colab": {
          "base_uri": "https://localhost:8080/",
          "height": 282
        }
      },
      "source": [
        "plt.scatter(d0[0], d0[1], c ='r') \n",
        "plt.scatter(d1[0], d1[1], c ='yellow') \n",
        "plt.scatter(d2[0], d2[1], c ='b') \n"
      ],
      "execution_count": 15,
      "outputs": [
        {
          "output_type": "execute_result",
          "data": {
            "text/plain": [
              "<matplotlib.collections.PathCollection at 0x7fe63e864fd0>"
            ]
          },
          "metadata": {
            "tags": []
          },
          "execution_count": 15
        },
        {
          "output_type": "display_data",
          "data": {
            "image/png": "[encoded data removed]",
            "text/plain": [
              "<Figure size 432x288 with 1 Axes>"
            ]
          },
          "metadata": {
            "tags": []
          }
        }
      ]
    },
    {
      "cell_type": "markdown",
      "metadata": {
        "id": "lzsP0xJyjHYW",
        "colab_type": "text"
      },
      "source": [
        "**GMM Scratch**"
      ]
    },
    {
      "cell_type": "code",
      "metadata": {
        "id": "f0rgxpAVnBad",
        "colab_type": "code",
        "colab": {}
      },
      "source": [
        "from scipy.stats import multivariate_normal \n",
        "import copy"
      ],
      "execution_count": 0,
      "outputs": []
    },
    {
      "cell_type": "code",
      "metadata": {
        "id": "J0xyPeZyjGf8",
        "colab_type": "code",
        "colab": {}
      },
      "source": [
        "class GMM_Model:\n",
        "  def __init__(self,num_clusters):\n",
        "    self.num_clusters = num_clusters\n",
        "\n",
        "  def init_clusters(self,X):\n",
        "    #naive initialization of clusters(random generating):\n",
        "    clusters = []\n",
        "    coefficient_sum = 0.0\n",
        "    for i in range(self.num_clusters):\n",
        "      tmp_cluster = {}\n",
        "      tmp_cluster['clusters_mean'] = np.random.randn(self.num_features)\n",
        "      #simple steps to provide positive semi-definite covariance matrix\n",
        "      tmp_matrix = np.random.randn(self.num_features,self.num_features)\n",
        "      tmp_cluster['clusters_covariance'] = np.dot(tmp_matrix, np.transpose(tmp_matrix))\n",
        "      tmp_cluster['clusters_coefficient'] = abs(np.random.randn())\n",
        "      coefficient_sum += tmp_cluster['clusters_coefficient']\n",
        "      clusters.append(copy.copy(tmp_cluster))\n",
        "    #ensuring sum of clusters_coefficient equals to one\n",
        "    for cluster in clusters:\n",
        "      cluster['clusters_coefficient'] /= coefficient_sum\n",
        "    return clusters\n",
        "\n",
        "  def gaussian_distribution(self,x,mean_var,covariance_var):\n",
        "    return multivariate_normal.pdf(x,mean=mean_var,cov=covariance_var,allow_singular=True)\n",
        "  def evaluate_all_responsibilities(self,clusters,X):\n",
        "    respons_matrix = []\n",
        "    for example in X:\n",
        "      total_score = 0.0\n",
        "      prob_array = []\n",
        "      for cluster in clusters:\n",
        "        score = cluster['clusters_coefficient']*self.gaussian_distribution(example,cluster['clusters_mean'],cluster['clusters_covariance'])\n",
        "        total_score += score\n",
        "        prob_array.append(score)\n",
        "      prob_array = prob_array/total_score\n",
        "      respons_matrix.append(copy.copy(prob_array))\n",
        "    return respons_matrix\n",
        "  def covariance_matrix(self,cluster,X):\n",
        "    cova_matrix_list = []\n",
        "    for example in X:\n",
        "      cova_matrix = (example-cluster['clusters_mean']).reshape(self.num_features,1)*(example-cluster['clusters_mean']).reshape(1,self.num_features)\n",
        "      cova_matrix_list.append(copy.copy(cova_matrix))\n",
        "    return cova_matrix_list\n",
        "  def estimate_params(self,clusters,X,respons_matrix):\n",
        "    for index_cluster,cluster in enumerate(clusters):\n",
        "      weight_cluster = np.transpose(respons_matrix)[index_cluster]\n",
        "      new_mean = np.average(X, weights=weight_cluster,axis=0)\n",
        "      clusters[index_cluster]['clusters_mean'] = copy.copy(new_mean)\n",
        "      cova_matrix_list = self.covariance_matrix(clusters[index_cluster],X)\n",
        "      new_covariance = np.average(cova_matrix_list,weights=weight_cluster,axis=0)\n",
        "      new_coefficient = np.sum(weight_cluster)/self.num_examples\n",
        "      clusters[index_cluster]['clusters_covariance'] = copy.copy(new_covariance)\n",
        "      clusters[index_cluster]['clusters_coefficient'] = copy.copy(new_coefficient)\n",
        "    return clusters\n",
        "  def evaluate_log_likelihood(self,clusters,X,respons_matrix):\n",
        "    matrix_score = np.zeros((self.num_examples,self.num_clusters))\n",
        "    for index_example,example in enumerate(X):\n",
        "      for index_cluster,cluster in enumerate(clusters):\n",
        "        matrix_score[index_example][index_cluster] = cluster['clusters_coefficient']*self.gaussian_distribution(example,cluster['clusters_mean'],cluster['clusters_covariance'])\n",
        "    final_score = np.sum(np.log(np.sum(matrix_score,axis=1)))\n",
        "    print(\"Score:\",final_score)\n",
        "  def fit(self,X,num_steps):\n",
        "    self.num_features = len(X[0])\n",
        "    self.num_examples = len(X)\n",
        "    #initialize parameters\n",
        "    clusters = self.init_clusters(X)\n",
        "    #EM process\n",
        "    self.num_steps = num_steps\n",
        "    for i in range(self.num_steps):\n",
        "      print(\"Step \",i+1)\n",
        "      #calculate responsibilities\n",
        "      respons_matrix = self.evaluate_all_responsibilities(clusters,X)\n",
        "      #re-estimate parameters\n",
        "      clusters = self.estimate_params(clusters,X,respons_matrix)\n",
        "      #evaluate log-likelihood function\n",
        "      current_score = self.evaluate_log_likelihood(clusters,X,respons_matrix)\n",
        "    return clusters\n",
        "  def predict_class(self,X,clusters):\n",
        "    label = []\n",
        "    respons_matrix = self.evaluate_all_responsibilities(clusters,X)\n",
        "    for example_score in respons_matrix:\n",
        "      label.append(np.argmax(example_score))\n",
        "    return label\n",
        "  def produce_threshold(self,X,clusters):\n",
        "    respons_matrix = self.evaluate_all_responsibilities(clusters,X)\n",
        "    #returning min of respons_matrix as threshold for predicting abnormal data\n",
        "    return np.min(np.asarray(respons_matrix))\n",
        "  def calculating_score(self,x,clusters):\n",
        "    respons_matrix = self.evaluate_all_responsibilities(clusters,[x])\n",
        "    return np.max(np.asarray(respons_matrix))\n",
        "  def predict_abnormal(self,example,clusters,thresh_hold):\n",
        "    score = self.calculating_score(example,clusters)\n",
        "    return score<thresh_hold\n"
      ],
      "execution_count": 0,
      "outputs": []
    },
    {
      "cell_type": "markdown",
      "metadata": {
        "id": "TXl6uQAK_yYT",
        "colab_type": "text"
      },
      "source": [
        "**Fix two random features**"
      ]
    },
    {
      "cell_type": "code",
      "metadata": {
        "colab_type": "code",
        "id": "ouNq5ASdBc8o",
        "colab": {}
      },
      "source": [
        "gaussian_model = GMM_Model(num_clusters=3)"
      ],
      "execution_count": 0,
      "outputs": []
    },
    {
      "cell_type": "code",
      "metadata": {
        "id": "ZFAMk6pV0nBQ",
        "colab_type": "code",
        "outputId": "92688b21-bbbc-4070-f262-50b5b628d1f2",
        "colab": {
          "base_uri": "https://localhost:8080/",
          "height": 697
        }
      },
      "source": [
        "X_fit = X_train_candidate_features.to_numpy()\n",
        "clusters = gaussian_model.fit(X_fit,num_steps=20)"
      ],
      "execution_count": 19,
      "outputs": [
        {
          "output_type": "stream",
          "text": [
            "Step  1\n",
            "Score: -5515.320350818075\n",
            "Step  2\n",
            "Score: -5242.573219166395\n",
            "Step  3\n",
            "Score: -2540.5392227747125\n",
            "Step  4\n",
            "Score: -3634.4126916133064\n",
            "Step  5\n",
            "Score: -2319.399009565019\n",
            "Step  6\n",
            "Score: -1116.4027643302331\n",
            "Step  7\n",
            "Score: -1443.4216864263394\n",
            "Step  8\n",
            "Score: -1389.6173539625404\n",
            "Step  9\n",
            "Score: -1259.6606808897595\n",
            "Step  10\n",
            "Score: -985.9875647272222\n",
            "Step  11\n",
            "Score: -438.1106670405755\n",
            "Step  12\n",
            "Score: 741.0397032353378\n",
            "Step  13\n",
            "Score: 709.0733120117791\n",
            "Step  14\n",
            "Score: 1391.4582008206935\n",
            "Step  15\n",
            "Score: 5146.657024633843\n",
            "Step  16\n",
            "Score: 9620.2601241938\n",
            "Step  17\n",
            "Score: -2197.3376681505592\n",
            "Step  18\n",
            "Score: -3538.7397672388406\n",
            "Step  19\n",
            "Score: -1930.5956508627348\n",
            "Step  20\n",
            "Score: -1157.1587791824177\n"
          ],
          "name": "stdout"
        }
      ]
    },
    {
      "cell_type": "code",
      "metadata": {
        "id": "sL8T-DZMA88n",
        "colab_type": "code",
        "colab": {
          "base_uri": "https://localhost:8080/",
          "height": 375
        },
        "outputId": "ba0c485b-35c4-40bf-be9a-5951c8147d2e"
      },
      "source": [
        "#clustering X_fit\n",
        "labels = gaussian_model.predict_class(X_fit,clusters) \n",
        "X_fit = pd.DataFrame(X_fit)\n",
        "X_fit['labels']= labels\n",
        "d4 = X_fit[X_fit['labels']== 0] \n",
        "d5 = X_fit[X_fit['labels']== 1]\n",
        "d6 = X_fit[X_fit['labels']== 2] "
      ],
      "execution_count": 26,
      "outputs": [
        {
          "output_type": "error",
          "ename": "ValueError",
          "evalue": "ignored",
          "traceback": [
            "\u001b[0;31m---------------------------------------------------------------------------\u001b[0m",
            "\u001b[0;31mValueError\u001b[0m                                Traceback (most recent call last)",
            "\u001b[0;32m<ipython-input-26-8710c0947db5>\u001b[0m in \u001b[0;36m<module>\u001b[0;34m()\u001b[0m\n\u001b[0;32m----> 1\u001b[0;31m \u001b[0mlabels\u001b[0m \u001b[0;34m=\u001b[0m \u001b[0mgaussian_model\u001b[0m\u001b[0;34m.\u001b[0m\u001b[0mpredict_class\u001b[0m\u001b[0;34m(\u001b[0m\u001b[0mX_fit\u001b[0m\u001b[0;34m,\u001b[0m\u001b[0mclusters\u001b[0m\u001b[0;34m)\u001b[0m\u001b[0;34m\u001b[0m\u001b[0;34m\u001b[0m\u001b[0m\n\u001b[0m\u001b[1;32m      2\u001b[0m \u001b[0mX_fit\u001b[0m \u001b[0;34m=\u001b[0m \u001b[0mpd\u001b[0m\u001b[0;34m.\u001b[0m\u001b[0mDataFrame\u001b[0m\u001b[0;34m(\u001b[0m\u001b[0mX_fit\u001b[0m\u001b[0;34m)\u001b[0m\u001b[0;34m\u001b[0m\u001b[0;34m\u001b[0m\u001b[0m\n\u001b[1;32m      3\u001b[0m \u001b[0mX_fit\u001b[0m\u001b[0;34m[\u001b[0m\u001b[0;34m'labels'\u001b[0m\u001b[0;34m]\u001b[0m\u001b[0;34m=\u001b[0m \u001b[0mlabels\u001b[0m\u001b[0;34m\u001b[0m\u001b[0;34m\u001b[0m\u001b[0m\n\u001b[1;32m      4\u001b[0m \u001b[0md4\u001b[0m \u001b[0;34m=\u001b[0m \u001b[0mX_fit\u001b[0m\u001b[0;34m[\u001b[0m\u001b[0mX_fit\u001b[0m\u001b[0;34m[\u001b[0m\u001b[0;34m'labels'\u001b[0m\u001b[0;34m]\u001b[0m\u001b[0;34m==\u001b[0m \u001b[0;36m0\u001b[0m\u001b[0;34m]\u001b[0m\u001b[0;34m\u001b[0m\u001b[0;34m\u001b[0m\u001b[0m\n\u001b[1;32m      5\u001b[0m \u001b[0md5\u001b[0m \u001b[0;34m=\u001b[0m \u001b[0mX_fit\u001b[0m\u001b[0;34m[\u001b[0m\u001b[0mX_fit\u001b[0m\u001b[0;34m[\u001b[0m\u001b[0;34m'labels'\u001b[0m\u001b[0;34m]\u001b[0m\u001b[0;34m==\u001b[0m \u001b[0;36m1\u001b[0m\u001b[0;34m]\u001b[0m\u001b[0;34m\u001b[0m\u001b[0;34m\u001b[0m\u001b[0m\n",
            "\u001b[0;32m<ipython-input-17-b7676f893c50>\u001b[0m in \u001b[0;36mpredict_class\u001b[0;34m(self, X, clusters)\u001b[0m\n\u001b[1;32m     77\u001b[0m   \u001b[0;32mdef\u001b[0m \u001b[0mpredict_class\u001b[0m\u001b[0;34m(\u001b[0m\u001b[0mself\u001b[0m\u001b[0;34m,\u001b[0m\u001b[0mX\u001b[0m\u001b[0;34m,\u001b[0m\u001b[0mclusters\u001b[0m\u001b[0;34m)\u001b[0m\u001b[0;34m:\u001b[0m\u001b[0;34m\u001b[0m\u001b[0;34m\u001b[0m\u001b[0m\n\u001b[1;32m     78\u001b[0m     \u001b[0mlabel\u001b[0m \u001b[0;34m=\u001b[0m \u001b[0;34m[\u001b[0m\u001b[0;34m]\u001b[0m\u001b[0;34m\u001b[0m\u001b[0;34m\u001b[0m\u001b[0m\n\u001b[0;32m---> 79\u001b[0;31m     \u001b[0mrespons_matrix\u001b[0m \u001b[0;34m=\u001b[0m \u001b[0mself\u001b[0m\u001b[0;34m.\u001b[0m\u001b[0mevaluate_all_responsibilities\u001b[0m\u001b[0;34m(\u001b[0m\u001b[0mclusters\u001b[0m\u001b[0;34m,\u001b[0m\u001b[0mX\u001b[0m\u001b[0;34m)\u001b[0m\u001b[0;34m\u001b[0m\u001b[0;34m\u001b[0m\u001b[0m\n\u001b[0m\u001b[1;32m     80\u001b[0m     \u001b[0;32mfor\u001b[0m \u001b[0mexample_score\u001b[0m \u001b[0;32min\u001b[0m \u001b[0mrespons_matrix\u001b[0m\u001b[0;34m:\u001b[0m\u001b[0;34m\u001b[0m\u001b[0;34m\u001b[0m\u001b[0m\n\u001b[1;32m     81\u001b[0m       \u001b[0mlabel\u001b[0m\u001b[0;34m.\u001b[0m\u001b[0mappend\u001b[0m\u001b[0;34m(\u001b[0m\u001b[0mnp\u001b[0m\u001b[0;34m.\u001b[0m\u001b[0margmax\u001b[0m\u001b[0;34m(\u001b[0m\u001b[0mexample_score\u001b[0m\u001b[0;34m)\u001b[0m\u001b[0;34m)\u001b[0m\u001b[0;34m\u001b[0m\u001b[0;34m\u001b[0m\u001b[0m\n",
            "\u001b[0;32m<ipython-input-17-b7676f893c50>\u001b[0m in \u001b[0;36mevaluate_all_responsibilities\u001b[0;34m(self, clusters, X)\u001b[0m\n\u001b[1;32m     29\u001b[0m       \u001b[0mprob_array\u001b[0m \u001b[0;34m=\u001b[0m \u001b[0;34m[\u001b[0m\u001b[0;34m]\u001b[0m\u001b[0;34m\u001b[0m\u001b[0;34m\u001b[0m\u001b[0m\n\u001b[1;32m     30\u001b[0m       \u001b[0;32mfor\u001b[0m \u001b[0mcluster\u001b[0m \u001b[0;32min\u001b[0m \u001b[0mclusters\u001b[0m\u001b[0;34m:\u001b[0m\u001b[0;34m\u001b[0m\u001b[0;34m\u001b[0m\u001b[0m\n\u001b[0;32m---> 31\u001b[0;31m         \u001b[0mscore\u001b[0m \u001b[0;34m=\u001b[0m \u001b[0mcluster\u001b[0m\u001b[0;34m[\u001b[0m\u001b[0;34m'clusters_coefficient'\u001b[0m\u001b[0;34m]\u001b[0m\u001b[0;34m*\u001b[0m\u001b[0mself\u001b[0m\u001b[0;34m.\u001b[0m\u001b[0mgaussian_distribution\u001b[0m\u001b[0;34m(\u001b[0m\u001b[0mexample\u001b[0m\u001b[0;34m,\u001b[0m\u001b[0mcluster\u001b[0m\u001b[0;34m[\u001b[0m\u001b[0;34m'clusters_mean'\u001b[0m\u001b[0;34m]\u001b[0m\u001b[0;34m,\u001b[0m\u001b[0mcluster\u001b[0m\u001b[0;34m[\u001b[0m\u001b[0;34m'clusters_covariance'\u001b[0m\u001b[0;34m]\u001b[0m\u001b[0;34m)\u001b[0m\u001b[0;34m\u001b[0m\u001b[0;34m\u001b[0m\u001b[0m\n\u001b[0m\u001b[1;32m     32\u001b[0m         \u001b[0mtotal_score\u001b[0m \u001b[0;34m+=\u001b[0m \u001b[0mscore\u001b[0m\u001b[0;34m\u001b[0m\u001b[0;34m\u001b[0m\u001b[0m\n\u001b[1;32m     33\u001b[0m         \u001b[0mprob_array\u001b[0m\u001b[0;34m.\u001b[0m\u001b[0mappend\u001b[0m\u001b[0;34m(\u001b[0m\u001b[0mscore\u001b[0m\u001b[0;34m)\u001b[0m\u001b[0;34m\u001b[0m\u001b[0;34m\u001b[0m\u001b[0m\n",
            "\u001b[0;32m<ipython-input-17-b7676f893c50>\u001b[0m in \u001b[0;36mgaussian_distribution\u001b[0;34m(self, x, mean_var, covariance_var)\u001b[0m\n\u001b[1;32m     22\u001b[0m \u001b[0;34m\u001b[0m\u001b[0m\n\u001b[1;32m     23\u001b[0m   \u001b[0;32mdef\u001b[0m \u001b[0mgaussian_distribution\u001b[0m\u001b[0;34m(\u001b[0m\u001b[0mself\u001b[0m\u001b[0;34m,\u001b[0m\u001b[0mx\u001b[0m\u001b[0;34m,\u001b[0m\u001b[0mmean_var\u001b[0m\u001b[0;34m,\u001b[0m\u001b[0mcovariance_var\u001b[0m\u001b[0;34m)\u001b[0m\u001b[0;34m:\u001b[0m\u001b[0;34m\u001b[0m\u001b[0;34m\u001b[0m\u001b[0m\n\u001b[0;32m---> 24\u001b[0;31m     \u001b[0;32mreturn\u001b[0m \u001b[0mmultivariate_normal\u001b[0m\u001b[0;34m.\u001b[0m\u001b[0mpdf\u001b[0m\u001b[0;34m(\u001b[0m\u001b[0mx\u001b[0m\u001b[0;34m,\u001b[0m\u001b[0mmean\u001b[0m\u001b[0;34m=\u001b[0m\u001b[0mmean_var\u001b[0m\u001b[0;34m,\u001b[0m\u001b[0mcov\u001b[0m\u001b[0;34m=\u001b[0m\u001b[0mcovariance_var\u001b[0m\u001b[0;34m,\u001b[0m\u001b[0mallow_singular\u001b[0m\u001b[0;34m=\u001b[0m\u001b[0;32mTrue\u001b[0m\u001b[0;34m)\u001b[0m\u001b[0;34m\u001b[0m\u001b[0;34m\u001b[0m\u001b[0m\n\u001b[0m\u001b[1;32m     25\u001b[0m   \u001b[0;32mdef\u001b[0m \u001b[0mevaluate_all_responsibilities\u001b[0m\u001b[0;34m(\u001b[0m\u001b[0mself\u001b[0m\u001b[0;34m,\u001b[0m\u001b[0mclusters\u001b[0m\u001b[0;34m,\u001b[0m\u001b[0mX\u001b[0m\u001b[0;34m)\u001b[0m\u001b[0;34m:\u001b[0m\u001b[0;34m\u001b[0m\u001b[0;34m\u001b[0m\u001b[0m\n\u001b[1;32m     26\u001b[0m     \u001b[0mrespons_matrix\u001b[0m \u001b[0;34m=\u001b[0m \u001b[0;34m[\u001b[0m\u001b[0;34m]\u001b[0m\u001b[0;34m\u001b[0m\u001b[0;34m\u001b[0m\u001b[0m\n",
            "\u001b[0;32m/usr/local/lib/python3.6/dist-packages/scipy/stats/_multivariate.py\u001b[0m in \u001b[0;36mpdf\u001b[0;34m(self, x, mean, cov, allow_singular)\u001b[0m\n\u001b[1;32m    518\u001b[0m         \"\"\"\n\u001b[1;32m    519\u001b[0m         \u001b[0mdim\u001b[0m\u001b[0;34m,\u001b[0m \u001b[0mmean\u001b[0m\u001b[0;34m,\u001b[0m \u001b[0mcov\u001b[0m \u001b[0;34m=\u001b[0m \u001b[0mself\u001b[0m\u001b[0;34m.\u001b[0m\u001b[0m_process_parameters\u001b[0m\u001b[0;34m(\u001b[0m\u001b[0;32mNone\u001b[0m\u001b[0;34m,\u001b[0m \u001b[0mmean\u001b[0m\u001b[0;34m,\u001b[0m \u001b[0mcov\u001b[0m\u001b[0;34m)\u001b[0m\u001b[0;34m\u001b[0m\u001b[0;34m\u001b[0m\u001b[0m\n\u001b[0;32m--> 520\u001b[0;31m         \u001b[0mx\u001b[0m \u001b[0;34m=\u001b[0m \u001b[0mself\u001b[0m\u001b[0;34m.\u001b[0m\u001b[0m_process_quantiles\u001b[0m\u001b[0;34m(\u001b[0m\u001b[0mx\u001b[0m\u001b[0;34m,\u001b[0m \u001b[0mdim\u001b[0m\u001b[0;34m)\u001b[0m\u001b[0;34m\u001b[0m\u001b[0;34m\u001b[0m\u001b[0m\n\u001b[0m\u001b[1;32m    521\u001b[0m         \u001b[0mpsd\u001b[0m \u001b[0;34m=\u001b[0m \u001b[0m_PSD\u001b[0m\u001b[0;34m(\u001b[0m\u001b[0mcov\u001b[0m\u001b[0;34m,\u001b[0m \u001b[0mallow_singular\u001b[0m\u001b[0;34m=\u001b[0m\u001b[0mallow_singular\u001b[0m\u001b[0;34m)\u001b[0m\u001b[0;34m\u001b[0m\u001b[0;34m\u001b[0m\u001b[0m\n\u001b[1;32m    522\u001b[0m         \u001b[0mout\u001b[0m \u001b[0;34m=\u001b[0m \u001b[0mnp\u001b[0m\u001b[0;34m.\u001b[0m\u001b[0mexp\u001b[0m\u001b[0;34m(\u001b[0m\u001b[0mself\u001b[0m\u001b[0;34m.\u001b[0m\u001b[0m_logpdf\u001b[0m\u001b[0;34m(\u001b[0m\u001b[0mx\u001b[0m\u001b[0;34m,\u001b[0m \u001b[0mmean\u001b[0m\u001b[0;34m,\u001b[0m \u001b[0mpsd\u001b[0m\u001b[0;34m.\u001b[0m\u001b[0mU\u001b[0m\u001b[0;34m,\u001b[0m \u001b[0mpsd\u001b[0m\u001b[0;34m.\u001b[0m\u001b[0mlog_pdet\u001b[0m\u001b[0;34m,\u001b[0m \u001b[0mpsd\u001b[0m\u001b[0;34m.\u001b[0m\u001b[0mrank\u001b[0m\u001b[0;34m)\u001b[0m\u001b[0;34m)\u001b[0m\u001b[0;34m\u001b[0m\u001b[0;34m\u001b[0m\u001b[0m\n",
            "\u001b[0;32m/usr/local/lib/python3.6/dist-packages/scipy/stats/_multivariate.py\u001b[0m in \u001b[0;36m_process_quantiles\u001b[0;34m(self, x, dim)\u001b[0m\n\u001b[1;32m    432\u001b[0m \u001b[0;34m\u001b[0m\u001b[0m\n\u001b[1;32m    433\u001b[0m         \"\"\"\n\u001b[0;32m--> 434\u001b[0;31m         \u001b[0mx\u001b[0m \u001b[0;34m=\u001b[0m \u001b[0mnp\u001b[0m\u001b[0;34m.\u001b[0m\u001b[0masarray\u001b[0m\u001b[0;34m(\u001b[0m\u001b[0mx\u001b[0m\u001b[0;34m,\u001b[0m \u001b[0mdtype\u001b[0m\u001b[0;34m=\u001b[0m\u001b[0mfloat\u001b[0m\u001b[0;34m)\u001b[0m\u001b[0;34m\u001b[0m\u001b[0;34m\u001b[0m\u001b[0m\n\u001b[0m\u001b[1;32m    435\u001b[0m \u001b[0;34m\u001b[0m\u001b[0m\n\u001b[1;32m    436\u001b[0m         \u001b[0;32mif\u001b[0m \u001b[0mx\u001b[0m\u001b[0;34m.\u001b[0m\u001b[0mndim\u001b[0m \u001b[0;34m==\u001b[0m \u001b[0;36m0\u001b[0m\u001b[0;34m:\u001b[0m\u001b[0;34m\u001b[0m\u001b[0;34m\u001b[0m\u001b[0m\n",
            "\u001b[0;32m/usr/local/lib/python3.6/dist-packages/numpy/core/_asarray.py\u001b[0m in \u001b[0;36masarray\u001b[0;34m(a, dtype, order)\u001b[0m\n\u001b[1;32m     83\u001b[0m \u001b[0;34m\u001b[0m\u001b[0m\n\u001b[1;32m     84\u001b[0m     \"\"\"\n\u001b[0;32m---> 85\u001b[0;31m     \u001b[0;32mreturn\u001b[0m \u001b[0marray\u001b[0m\u001b[0;34m(\u001b[0m\u001b[0ma\u001b[0m\u001b[0;34m,\u001b[0m \u001b[0mdtype\u001b[0m\u001b[0;34m,\u001b[0m \u001b[0mcopy\u001b[0m\u001b[0;34m=\u001b[0m\u001b[0;32mFalse\u001b[0m\u001b[0;34m,\u001b[0m \u001b[0morder\u001b[0m\u001b[0;34m=\u001b[0m\u001b[0morder\u001b[0m\u001b[0;34m)\u001b[0m\u001b[0;34m\u001b[0m\u001b[0;34m\u001b[0m\u001b[0m\n\u001b[0m\u001b[1;32m     86\u001b[0m \u001b[0;34m\u001b[0m\u001b[0m\n\u001b[1;32m     87\u001b[0m \u001b[0;34m\u001b[0m\u001b[0m\n",
            "\u001b[0;31mValueError\u001b[0m: could not convert string to float: 'labels'"
          ]
        }
      ]
    },
    {
      "cell_type": "code",
      "metadata": {
        "id": "EKSBHQ4qCEX4",
        "colab_type": "code",
        "outputId": "8378785b-bbc2-49f2-f456-9504c0cff2d4",
        "colab": {
          "base_uri": "https://localhost:8080/",
          "height": 282
        }
      },
      "source": [
        "plt.scatter(d4[0], d4[1], c ='r') \n",
        "plt.scatter(d5[0], d5[1], c ='yellow') \n",
        "plt.scatter(d6[0], d6[1], c='blue')"
      ],
      "execution_count": 21,
      "outputs": [
        {
          "output_type": "execute_result",
          "data": {
            "text/plain": [
              "<matplotlib.collections.PathCollection at 0x7fe63e7f22b0>"
            ]
          },
          "metadata": {
            "tags": []
          },
          "execution_count": 21
        },
        {
          "output_type": "display_data",
          "data": {
            "image/png": "[encoded data removed]",
            "text/plain": [
              "<Figure size 432x288 with 1 Axes>"
            ]
          },
          "metadata": {
            "tags": []
          }
        }
      ]
    },
    {
      "cell_type": "markdown",
      "metadata": {
        "id": "DxvaIcjO_6fu",
        "colab_type": "text"
      },
      "source": [
        "**Fix all features**"
      ]
    },
    {
      "cell_type": "code",
      "metadata": {
        "id": "SqRauodJ0H0A",
        "colab_type": "code",
        "colab": {}
      },
      "source": [
        "gaussian_model = GMM_Model(num_clusters=3)"
      ],
      "execution_count": 0,
      "outputs": []
    },
    {
      "cell_type": "code",
      "metadata": {
        "id": "WdeKBCfq_5uj",
        "colab_type": "code",
        "outputId": "bc6370ff-533e-4b56-8306-d23517ccb0ae",
        "colab": {
          "base_uri": "https://localhost:8080/",
          "height": 697
        }
      },
      "source": [
        "X_fit_all = X_train\n",
        "clusters_all_features = gaussian_model.fit(X_fit_all,num_steps=20)"
      ],
      "execution_count": 23,
      "outputs": [
        {
          "output_type": "stream",
          "text": [
            "Step  1\n",
            "Score: -27513.101249815845\n",
            "Step  2\n",
            "Score: -25430.47308131949\n",
            "Step  3\n",
            "Score: -23803.544929180738\n",
            "Step  4\n",
            "Score: -21819.918034618342\n",
            "Step  5\n",
            "Score: -22318.34864588036\n",
            "Step  6\n",
            "Score: -20235.473413017677\n",
            "Step  7\n",
            "Score: -19352.796286006465\n",
            "Step  8\n",
            "Score: -17696.99106330327\n",
            "Step  9\n",
            "Score: -18705.421783928155\n",
            "Step  10\n",
            "Score: -17103.036719888216\n",
            "Step  11\n",
            "Score: -18460.5218419253\n",
            "Step  12\n",
            "Score: -16941.513129855313\n",
            "Step  13\n",
            "Score: -18344.67078036531\n",
            "Step  14\n",
            "Score: -17437.555364684707\n",
            "Step  15\n",
            "Score: -18203.5803016516\n",
            "Step  16\n",
            "Score: -16997.062251973213\n",
            "Step  17\n",
            "Score: -17177.255451078287\n",
            "Step  18\n",
            "Score: -18392.07267134218\n",
            "Step  19\n",
            "Score: -18949.859266321502\n",
            "Step  20\n",
            "Score: -17276.381596100833\n"
          ],
          "name": "stdout"
        }
      ]
    },
    {
      "cell_type": "markdown",
      "metadata": {
        "id": "MSOZZCHpALHL",
        "colab_type": "text"
      },
      "source": [
        "**Predict anomalies(all features)**"
      ]
    },
    {
      "cell_type": "code",
      "metadata": {
        "colab_type": "code",
        "id": "DyLHx96NASnZ",
        "colab": {}
      },
      "source": [
        "#predict anomalies\n",
        "X_test = df[df['normal_label']==1].drop(labels='normal_label',axis=1).to_numpy()"
      ],
      "execution_count": 0,
      "outputs": []
    },
    {
      "cell_type": "code",
      "metadata": {
        "colab_type": "code",
        "id": "jHF8QLb4AVrB",
        "colab": {
          "base_uri": "https://localhost:8080/",
          "height": 34
        },
        "outputId": "babed35c-789e-482f-d162-d8e38e5dd209"
      },
      "source": [
        "count = 0\n",
        "cur_thresh_hold = gaussian_model.produce_threshold(X_train,clusters_all_features)\n",
        "for example in X_test:\n",
        "  result = gaussian_model.predict_abnormal(example,clusters_all_features,cur_thresh_hold)\n",
        "  if(result == True):\n",
        "    count+=1\n",
        "count"
      ],
      "execution_count": 25,
      "outputs": [
        {
          "output_type": "execute_result",
          "data": {
            "text/plain": [
              "0"
            ]
          },
          "metadata": {
            "tags": []
          },
          "execution_count": 25
        }
      ]
    }
  ]
}